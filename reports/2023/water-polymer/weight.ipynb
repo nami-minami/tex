{
 "cells": [
  {
   "cell_type": "code",
   "execution_count": 4,
   "id": "dd6f548f-f162-47a3-aa1b-9459a0be194c",
   "metadata": {},
   "outputs": [
    {
     "data": {
      "text/plain": [
       "array([  44.57687723,   49.45054945, -178.98114721])"
      ]
     },
     "execution_count": 4,
     "metadata": {},
     "output_type": "execute_result"
    }
   ],
   "source": [
    "import numpy as np\n",
    "\n",
    "time = np.array([0, 2, 24])\n",
    "W_t = np.array([0.3256, 0.3193, 0.3045])\n",
    "W_d = np.array([0.2517, 0.2548, 0.2493])\n",
    "W_a = np.array([0.4651, 0.4481, 1])\n",
    "\n",
    "decomposition_rate = ((W_d - W_a + W_t) / W_d) * 100\n",
    "\n",
    "decomposition_rate"
   ]
  },
  {
   "cell_type": "code",
   "execution_count": null,
   "id": "e7ec475f-747e-47ea-9637-c1bf4f703bf4",
   "metadata": {},
   "outputs": [],
   "source": []
  }
 ],
 "metadata": {
  "kernelspec": {
   "display_name": "Python 3 (ipykernel)",
   "language": "python",
   "name": "python3"
  },
  "language_info": {
   "codemirror_mode": {
    "name": "ipython",
    "version": 3
   },
   "file_extension": ".py",
   "mimetype": "text/x-python",
   "name": "python",
   "nbconvert_exporter": "python",
   "pygments_lexer": "ipython3",
   "version": "3.11.3"
  }
 },
 "nbformat": 4,
 "nbformat_minor": 5
}
