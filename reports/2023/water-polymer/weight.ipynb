{
 "cells": [
  {
   "cell_type": "markdown",
   "id": "e0bf8454-c744-4a51-9135-81f61869e263",
   "metadata": {
    "id": "e0bf8454-c744-4a51-9135-81f61869e263"
   },
   "source": [
    "# 酵素分解反応前後の重量を用いた酵素分解率の計算"
   ]
  },
  {
   "cell_type": "code",
   "execution_count": 1,
   "id": "dd6f548f-f162-47a3-aa1b-9459a0be194c",
   "metadata": {
    "id": "dd6f548f-f162-47a3-aa1b-9459a0be194c",
    "outputId": "dc95b5a4-11b4-4bd2-dd7d-6fecb1e8c39f"
   },
   "outputs": [
    {
     "name": "stdout",
     "output_type": "stream",
     "text": [
      "酵素分解率[%] = [44.57687723 49.45054945 87.92619334]\n"
     ]
    }
   ],
   "source": [
    "import numpy as np\n",
    "\n",
    "time = np.array([0, 2, 24])\n",
    "W_t = np.array([0.3256, 0.3193, 0.3045])    #ティーバッグの質量\n",
    "W_d = np.array([0.2517, 0.2548, 0.2493])    #酵素反応前の CMC SAP のみの質量\n",
    "W_a = np.array([0.4651, 0.4481, 0.3346])          #酵素反応後の CMC SAP とティーバッグの質量\n",
    "\n",
    "decomposition_rate = ((W_d - W_a + W_t) / W_d) * 100\n",
    "print(\"酵素分解率[%] =\", decomposition_rate)"
   ]
  },
  {
   "cell_type": "code",
   "execution_count": null,
   "id": "4311de1d-ba41-4c38-a0d3-6671edb6253d",
   "metadata": {
    "id": "4311de1d-ba41-4c38-a0d3-6671edb6253d"
   },
   "outputs": [],
   "source": []
  }
 ],
 "metadata": {
  "colab": {
   "provenance": []
  },
  "kernelspec": {
   "display_name": "Python 3 (ipykernel)",
   "language": "python",
   "name": "python3"
  },
  "language_info": {
   "codemirror_mode": {
    "name": "ipython",
    "version": 3
   },
   "file_extension": ".py",
   "mimetype": "text/x-python",
   "name": "python",
   "nbconvert_exporter": "python",
   "pygments_lexer": "ipython3",
   "version": "3.11.3"
  }
 },
 "nbformat": 4,
 "nbformat_minor": 5
}
