{
 "cells": [
  {
   "cell_type": "code",
   "execution_count": 6,
   "id": "9a815667-499c-4378-8eb9-165bf78d2288",
   "metadata": {},
   "outputs": [
    {
     "data": {
      "text/html": [
       "<div>\n",
       "<style scoped>\n",
       "    .dataframe tbody tr th:only-of-type {\n",
       "        vertical-align: middle;\n",
       "    }\n",
       "\n",
       "    .dataframe tbody tr th {\n",
       "        vertical-align: top;\n",
       "    }\n",
       "\n",
       "    .dataframe thead th {\n",
       "        text-align: right;\n",
       "    }\n",
       "</style>\n",
       "<table border=\"1\" class=\"dataframe\">\n",
       "  <thead>\n",
       "    <tr style=\"text-align: right;\">\n",
       "      <th></th>\n",
       "      <th>t</th>\n",
       "      <th>X</th>\n",
       "      <th>A</th>\n",
       "      <th>dL</th>\n",
       "      <th>dL/L0</th>\n",
       "      <th>Valiation</th>\n",
       "    </tr>\n",
       "    <tr>\n",
       "      <th>t</th>\n",
       "      <th></th>\n",
       "      <th></th>\n",
       "      <th></th>\n",
       "      <th></th>\n",
       "      <th></th>\n",
       "      <th></th>\n",
       "    </tr>\n",
       "  </thead>\n",
       "  <tbody>\n",
       "    <tr>\n",
       "      <th>20</th>\n",
       "      <td>20</td>\n",
       "      <td>3.00</td>\n",
       "      <td>0.00</td>\n",
       "      <td>0.000000</td>\n",
       "      <td>0.000000</td>\n",
       "      <td>0.000000</td>\n",
       "    </tr>\n",
       "    <tr>\n",
       "      <th>25</th>\n",
       "      <td>25</td>\n",
       "      <td>3.01</td>\n",
       "      <td>0.01</td>\n",
       "      <td>0.000005</td>\n",
       "      <td>0.000001</td>\n",
       "      <td>0.000000</td>\n",
       "    </tr>\n",
       "    <tr>\n",
       "      <th>30</th>\n",
       "      <td>30</td>\n",
       "      <td>3.07</td>\n",
       "      <td>0.07</td>\n",
       "      <td>0.000035</td>\n",
       "      <td>0.000007</td>\n",
       "      <td>0.000006</td>\n",
       "    </tr>\n",
       "    <tr>\n",
       "      <th>35</th>\n",
       "      <td>35</td>\n",
       "      <td>3.11</td>\n",
       "      <td>0.11</td>\n",
       "      <td>0.000055</td>\n",
       "      <td>0.000011</td>\n",
       "      <td>0.000004</td>\n",
       "    </tr>\n",
       "    <tr>\n",
       "      <th>40</th>\n",
       "      <td>40</td>\n",
       "      <td>3.11</td>\n",
       "      <td>0.11</td>\n",
       "      <td>0.000055</td>\n",
       "      <td>0.000011</td>\n",
       "      <td>0.000000</td>\n",
       "    </tr>\n",
       "    <tr>\n",
       "      <th>...</th>\n",
       "      <td>...</td>\n",
       "      <td>...</td>\n",
       "      <td>...</td>\n",
       "      <td>...</td>\n",
       "      <td>...</td>\n",
       "      <td>...</td>\n",
       "    </tr>\n",
       "    <tr>\n",
       "      <th>445</th>\n",
       "      <td>445</td>\n",
       "      <td>6.10</td>\n",
       "      <td>3.10</td>\n",
       "      <td>0.001550</td>\n",
       "      <td>0.000321</td>\n",
       "      <td>-0.000001</td>\n",
       "    </tr>\n",
       "    <tr>\n",
       "      <th>450</th>\n",
       "      <td>450</td>\n",
       "      <td>6.00</td>\n",
       "      <td>3.00</td>\n",
       "      <td>0.001500</td>\n",
       "      <td>0.000311</td>\n",
       "      <td>-0.000010</td>\n",
       "    </tr>\n",
       "    <tr>\n",
       "      <th>455</th>\n",
       "      <td>455</td>\n",
       "      <td>5.50</td>\n",
       "      <td>2.50</td>\n",
       "      <td>0.001250</td>\n",
       "      <td>0.000259</td>\n",
       "      <td>-0.000052</td>\n",
       "    </tr>\n",
       "    <tr>\n",
       "      <th>460</th>\n",
       "      <td>460</td>\n",
       "      <td>4.80</td>\n",
       "      <td>1.80</td>\n",
       "      <td>0.000900</td>\n",
       "      <td>0.000187</td>\n",
       "      <td>-0.000073</td>\n",
       "    </tr>\n",
       "    <tr>\n",
       "      <th>465</th>\n",
       "      <td>465</td>\n",
       "      <td>2.50</td>\n",
       "      <td>-0.50</td>\n",
       "      <td>-0.000250</td>\n",
       "      <td>-0.000052</td>\n",
       "      <td>-0.000239</td>\n",
       "    </tr>\n",
       "  </tbody>\n",
       "</table>\n",
       "<p>90 rows × 6 columns</p>\n",
       "</div>"
      ],
      "text/plain": [
       "       t     X     A        dL     dL/L0  Valiation\n",
       "t                                                  \n",
       "20    20  3.00  0.00  0.000000  0.000000   0.000000\n",
       "25    25  3.01  0.01  0.000005  0.000001   0.000000\n",
       "30    30  3.07  0.07  0.000035  0.000007   0.000006\n",
       "35    35  3.11  0.11  0.000055  0.000011   0.000004\n",
       "40    40  3.11  0.11  0.000055  0.000011   0.000000\n",
       "..   ...   ...   ...       ...       ...        ...\n",
       "445  445  6.10  3.10  0.001550  0.000321  -0.000001\n",
       "450  450  6.00  3.00  0.001500  0.000311  -0.000010\n",
       "455  455  5.50  2.50  0.001250  0.000259  -0.000052\n",
       "460  460  4.80  1.80  0.000900  0.000187  -0.000073\n",
       "465  465  2.50 -0.50 -0.000250 -0.000052  -0.000239\n",
       "\n",
       "[90 rows x 6 columns]"
      ]
     },
     "execution_count": 6,
     "metadata": {},
     "output_type": "execute_result"
    }
   ],
   "source": [
    "import pandas as pd \n",
    "\n",
    "df = pd.read_csv(\"glass.csv\").set_index('t', drop=False)\n",
    "df"
   ]
  },
  {
   "cell_type": "code",
   "execution_count": 28,
   "id": "4590c37b-8e41-4286-86d0-5cbd1cab3d77",
   "metadata": {},
   "outputs": [
    {
     "name": "stdout",
     "output_type": "stream",
     "text": [
      "coefficient = [[1.1672e-06]] [[-4.73272727e-07]]\n",
      "intercept = [-6.30638095e-05] [0.00052857]\n",
      "score = 0.9983093499771882 0.9205268826071656\n",
      "intersection = [360.65002908] [0.00035789]\n"
     ]
    },
    {
     "data": {
      "image/png": "[encoded data removed]",
      "text/plain": [
       "<Figure size 640x480 with 1 Axes>"
      ]
     },
     "metadata": {},
     "output_type": "display_data"
    }
   ],
   "source": [
    "import numpy as np  \n",
    "from numpy.linalg import solve\n",
    "import pandas as pd \n",
    "import matplotlib.pyplot as plt\n",
    "from pandas import DataFrame, Series\n",
    "from sklearn import linear_model\n",
    "\n",
    "#pre Data\n",
    "x = df.index.values\n",
    "y = df['dL/L0'].values\n",
    "\n",
    "X0 = df.loc['150':'250', 't'].values.reshape(-1,1)\n",
    "Y0 = df.loc['150':'250', 'dL/L0'].values.reshape(-1,1)\n",
    "\n",
    "X1 = df.loc['400':'450', 't'].values.reshape(-1,1)\n",
    "Y1 = df.loc['400':'450', 'dL/L0'].values.reshape(-1,1)\n",
    "\n",
    "\n",
    "#Regression\n",
    "model0 = linear_model.LinearRegression()\n",
    "model0.fit(X0,Y0)\n",
    "pred_Y0 = model0.predict(x.reshape(-1,1))\n",
    "\n",
    "model1 = linear_model.LinearRegression()\n",
    "model1.fit(X1,Y1)\n",
    "pred_Y1 = model1.predict(x.reshape(-1,1))\n",
    "\n",
    "\n",
    "#info of regression\n",
    "print(\"coefficient =\", model0.coef_, model1.coef_)\n",
    "print(\"intercept =\", model0.intercept_, model1.intercept_)\n",
    "print(\"score =\", model0.score(X0, Y0), model1.score(X1,Y1))\n",
    "\n",
    "\n",
    "#compute the intersection \n",
    "left = np.array([model0.coef_, [[-1]], model1.coef_, [[-1]]]).reshape(2,2)\n",
    "right = np.array([-model0.intercept_, -model1.intercept_])\n",
    "\n",
    "intersection_x, intersection_y = solve(left, right)\n",
    "print(\"intersection =\",intersection_x,intersection_y)\n",
    "\n",
    "\n",
    "#visualization\n",
    "fig = plt.figure()\n",
    "ax = plt.subplot()\n",
    "ax.set_xlim(0,500)\n",
    "ax.set_xticks(np.arange(0,550,50))\n",
    "ax.set_xlabel(\"temperature\")\n",
    "ax.set_ylim(-1e-4,4e-4)\n",
    "ax.set_yticks(np.arange(-1e-4,4.5e-4,5e-5))\n",
    "ax.set_ylabel(\"∆L/L0\")\n",
    "ax.tick_params(direction='in')\n",
    "\n",
    "ax.scatter(x,y,s=15)\n",
    "ax.scatter(X0,Y0,s=15,color='#ff7f00')\n",
    "ax.scatter(X1,Y1,s=15,color='green')\n",
    "ax.plot(x,pred_Y0,color='#ff7f00')\n",
    "ax.plot(x,pred_Y1,color='green')\n",
    "ax.scatter(intersection_x, intersection_y, color='red') #scatter intercection\n",
    "ax.plot(np.repeat(intersection_x,2), np.append(-1e-4,intersection_y), color='red', linestyle='dotted')\n",
    "ax.plot(np.append(intersection_x,0), np.repeat(intersection_y,2), color='red', linestyle='dotted')\n",
    "plt.show()"
   ]
  },
  {
   "cell_type": "code",
   "execution_count": 27,
   "id": "1f5221f4-aebf-452e-bedc-9228bad8ed24",
   "metadata": {},
   "outputs": [
    {
     "data": {
      "text/plain": [
       "-3.3600000000000003"
      ]
     },
     "execution_count": 27,
     "metadata": {},
     "output_type": "execute_result"
    }
   ],
   "source": [
    "Na2B2O3_mol = 6.2 / 201.37\n",
    "\n",
    "7.8 - Na2B2O3_mol * 6 * 18"
   ]
  },
  {
   "cell_type": "code",
   "execution_count": 30,
   "id": "e2e617aa-9ffc-4129-a489-968dba892b99",
   "metadata": {},
   "outputs": [
    {
     "data": {
      "text/plain": [
       "1.7907289029594892e-07"
      ]
     },
     "execution_count": 30,
     "metadata": {},
     "output_type": "execute_result"
    }
   ],
   "source": [
    "import numpy as np \n",
    "\n",
    "material_math = np.array([6.20, 7.80, 1.37])\n",
    "water_math = (material_molar[0] / 201.37) * 6 * 18\n",
    "material_math[1] -= water_math\n",
    "\n",
    "comp_frac = material_math / np.sum(material_math)\n",
    "alpha = np.array([0.33e-8, 33.3e-8, 10e-8])\n",
    "\n",
    "np.sum(comp_frac * alpha)"
   ]
  },
  {
   "cell_type": "code",
   "execution_count": 59,
   "id": "a65ba6fe-4bcf-4242-bd6a-18a354b8b8d4",
   "metadata": {},
   "outputs": [
    {
     "data": {
      "text/plain": [
       "2.5398739640104165e-05"
      ]
     },
     "execution_count": 59,
     "metadata": {},
     "output_type": "execute_result"
    }
   ],
   "source": [
    "import numpy as np \n",
    "\n",
    "material_math = np.array([6.20, 7.80, 1.37])\n",
    "\n",
    "Na2B2O3_math = material_math[0]\n",
    "material_math[0] = Na2B2O3_math / 201.37 * 62\n",
    "material_math[1] = (Na2B2O3_math / 201.37 * 2 * 70) + (material_math[1] / 61.83 * 0.5 * 70)\n",
    "\n",
    "comp_frac = material_math / np.sum(material_math) * 100\n",
    "alpha = np.array([0.333e-8, 33.3e-8, 10e-8])\n",
    "\n",
    "np.sum(comp_frac * alpha)\n",
    "\n",
    "# np.sum(material_math)"
   ]
  },
  {
   "cell_type": "code",
   "execution_count": null,
   "id": "df01f21a-74d8-4c6a-9313-c3e3f6e2ba8e",
   "metadata": {},
   "outputs": [],
   "source": []
  }
 ],
 "metadata": {
  "kernelspec": {
   "display_name": "Python 3 (ipykernel)",
   "language": "python",
   "name": "python3"
  },
  "language_info": {
   "codemirror_mode": {
    "name": "ipython",
    "version": 3
   },
   "file_extension": ".py",
   "mimetype": "text/x-python",
   "name": "python",
   "nbconvert_exporter": "python",
   "pygments_lexer": "ipython3",
   "version": "3.11.4"
  }
 },
 "nbformat": 4,
 "nbformat_minor": 5
}
